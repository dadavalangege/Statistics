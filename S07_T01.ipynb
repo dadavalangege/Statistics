{
 "cells": [
  {
   "cell_type": "markdown",
   "id": "85f9c447",
   "metadata": {},
   "source": [
    "- Exercici 1\n",
    "\n",
    "Agafa un conjunt de dades de tema esportiu que t'agradi i selecciona un atribut del conjunt de dades. Calcula la moda, la mediana, la desviació estàndard i la mitjana aritmètica. \n",
    "\n"
   ]
  },
  {
   "cell_type": "markdown",
   "id": "fa94381d",
   "metadata": {},
   "source": [
    "- Exercici 2\n",
    "Continuant amb les dades de tema esportiu, selecciona dos atributs i calcula'n la seva correlació. "
   ]
  },
  {
   "cell_type": "markdown",
   "id": "200fea5b",
   "metadata": {},
   "source": [
    "- Exercici 3\n",
    "\n",
    "Continuant amb les dades de tema esportiu, calcula la correlació de tots els atributs entre sí i representa'ls en una matriu amb diferents colors d'intensitat."
   ]
  },
  {
   "cell_type": "markdown",
   "id": "8c3b2cf6",
   "metadata": {},
   "source": [
    "- Exercici 4\n",
    "\n",
    "Continuant amb les dades de tema esportiu, selecciona un atribut i calcula la mitjana geomètrica i la mitjana harmònica."
   ]
  }
 ],
 "metadata": {
  "kernelspec": {
   "display_name": "Python 3",
   "language": "python",
   "name": "python3"
  },
  "language_info": {
   "codemirror_mode": {
    "name": "ipython",
    "version": 3
   },
   "file_extension": ".py",
   "mimetype": "text/x-python",
   "name": "python",
   "nbconvert_exporter": "python",
   "pygments_lexer": "ipython3",
   "version": "3.8.8"
  }
 },
 "nbformat": 4,
 "nbformat_minor": 5
}
