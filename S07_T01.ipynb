{
 "cells": [
  {
   "cell_type": "markdown",
   "id": "f3dcecfd",
   "metadata": {},
   "source": [
    "- Exercici 1\n",
    "\n",
    "Agafa un conjunt de dades de tema esportiu que t'agradi i selecciona un atribut del conjunt de dades. Calcula la moda, la mediana, la desviació estàndard i la mitjana aritmètica. \n",
    "\n"
   ]
  },
  {
   "cell_type": "code",
   "execution_count": 2,
   "id": "48505840",
   "metadata": {},
   "outputs": [],
   "source": [
    "import pandas as pd\n",
    "import numpy as np\n",
    "import matplotlib.pyplot as plt\n",
    "import seaborn as sns"
   ]
  },
  {
   "cell_type": "code",
   "execution_count": 3,
   "id": "8fe3de64",
   "metadata": {},
   "outputs": [
    {
     "data": {
      "text/html": [
       "<div>\n",
       "<style scoped>\n",
       "    .dataframe tbody tr th:only-of-type {\n",
       "        vertical-align: middle;\n",
       "    }\n",
       "\n",
       "    .dataframe tbody tr th {\n",
       "        vertical-align: top;\n",
       "    }\n",
       "\n",
       "    .dataframe thead th {\n",
       "        text-align: right;\n",
       "    }\n",
       "</style>\n",
       "<table border=\"1\" class=\"dataframe\">\n",
       "  <thead>\n",
       "    <tr style=\"text-align: right;\">\n",
       "      <th></th>\n",
       "      <th>Name</th>\n",
       "      <th>Jersey Number</th>\n",
       "      <th>Club</th>\n",
       "      <th>Position</th>\n",
       "      <th>Nationality</th>\n",
       "      <th>Age</th>\n",
       "      <th>Appearances</th>\n",
       "      <th>Wins</th>\n",
       "      <th>Losses</th>\n",
       "      <th>Goals</th>\n",
       "      <th>...</th>\n",
       "      <th>Punches</th>\n",
       "      <th>High Claims</th>\n",
       "      <th>Catches</th>\n",
       "      <th>Sweeper clearances</th>\n",
       "      <th>Throw outs</th>\n",
       "      <th>Goal Kicks</th>\n",
       "      <th>Yellow cards</th>\n",
       "      <th>Red cards</th>\n",
       "      <th>Fouls</th>\n",
       "      <th>Offsides</th>\n",
       "    </tr>\n",
       "  </thead>\n",
       "  <tbody>\n",
       "    <tr>\n",
       "      <th>0</th>\n",
       "      <td>Bernd Leno</td>\n",
       "      <td>1.0</td>\n",
       "      <td>Arsenal</td>\n",
       "      <td>Goalkeeper</td>\n",
       "      <td>Germany</td>\n",
       "      <td>28.0</td>\n",
       "      <td>64</td>\n",
       "      <td>28</td>\n",
       "      <td>16</td>\n",
       "      <td>0</td>\n",
       "      <td>...</td>\n",
       "      <td>34.0</td>\n",
       "      <td>26.0</td>\n",
       "      <td>17.0</td>\n",
       "      <td>28.0</td>\n",
       "      <td>375.0</td>\n",
       "      <td>489.0</td>\n",
       "      <td>2</td>\n",
       "      <td>0</td>\n",
       "      <td>0</td>\n",
       "      <td>NaN</td>\n",
       "    </tr>\n",
       "    <tr>\n",
       "      <th>1</th>\n",
       "      <td>Matt Macey</td>\n",
       "      <td>33.0</td>\n",
       "      <td>Arsenal</td>\n",
       "      <td>Goalkeeper</td>\n",
       "      <td>England</td>\n",
       "      <td>26.0</td>\n",
       "      <td>0</td>\n",
       "      <td>0</td>\n",
       "      <td>0</td>\n",
       "      <td>0</td>\n",
       "      <td>...</td>\n",
       "      <td>0.0</td>\n",
       "      <td>0.0</td>\n",
       "      <td>0.0</td>\n",
       "      <td>0.0</td>\n",
       "      <td>0.0</td>\n",
       "      <td>0.0</td>\n",
       "      <td>0</td>\n",
       "      <td>0</td>\n",
       "      <td>0</td>\n",
       "      <td>NaN</td>\n",
       "    </tr>\n",
       "    <tr>\n",
       "      <th>2</th>\n",
       "      <td>Rúnar Alex Rúnarsson</td>\n",
       "      <td>13.0</td>\n",
       "      <td>Arsenal</td>\n",
       "      <td>Goalkeeper</td>\n",
       "      <td>Iceland</td>\n",
       "      <td>25.0</td>\n",
       "      <td>0</td>\n",
       "      <td>0</td>\n",
       "      <td>0</td>\n",
       "      <td>0</td>\n",
       "      <td>...</td>\n",
       "      <td>0.0</td>\n",
       "      <td>0.0</td>\n",
       "      <td>0.0</td>\n",
       "      <td>0.0</td>\n",
       "      <td>0.0</td>\n",
       "      <td>0.0</td>\n",
       "      <td>0</td>\n",
       "      <td>0</td>\n",
       "      <td>0</td>\n",
       "      <td>NaN</td>\n",
       "    </tr>\n",
       "    <tr>\n",
       "      <th>3</th>\n",
       "      <td>Héctor Bellerín</td>\n",
       "      <td>2.0</td>\n",
       "      <td>Arsenal</td>\n",
       "      <td>Defender</td>\n",
       "      <td>Spain</td>\n",
       "      <td>25.0</td>\n",
       "      <td>160</td>\n",
       "      <td>90</td>\n",
       "      <td>37</td>\n",
       "      <td>7</td>\n",
       "      <td>...</td>\n",
       "      <td>NaN</td>\n",
       "      <td>NaN</td>\n",
       "      <td>NaN</td>\n",
       "      <td>NaN</td>\n",
       "      <td>NaN</td>\n",
       "      <td>NaN</td>\n",
       "      <td>23</td>\n",
       "      <td>0</td>\n",
       "      <td>125</td>\n",
       "      <td>8.0</td>\n",
       "    </tr>\n",
       "    <tr>\n",
       "      <th>4</th>\n",
       "      <td>Kieran Tierney</td>\n",
       "      <td>3.0</td>\n",
       "      <td>Arsenal</td>\n",
       "      <td>Defender</td>\n",
       "      <td>Scotland</td>\n",
       "      <td>23.0</td>\n",
       "      <td>16</td>\n",
       "      <td>7</td>\n",
       "      <td>5</td>\n",
       "      <td>1</td>\n",
       "      <td>...</td>\n",
       "      <td>NaN</td>\n",
       "      <td>NaN</td>\n",
       "      <td>NaN</td>\n",
       "      <td>NaN</td>\n",
       "      <td>NaN</td>\n",
       "      <td>NaN</td>\n",
       "      <td>2</td>\n",
       "      <td>0</td>\n",
       "      <td>9</td>\n",
       "      <td>0.0</td>\n",
       "    </tr>\n",
       "  </tbody>\n",
       "</table>\n",
       "<p>5 rows × 59 columns</p>\n",
       "</div>"
      ],
      "text/plain": [
       "                   Name  Jersey Number     Club    Position Nationality   Age  \\\n",
       "0            Bernd Leno            1.0  Arsenal  Goalkeeper     Germany  28.0   \n",
       "1            Matt Macey           33.0  Arsenal  Goalkeeper     England  26.0   \n",
       "2  Rúnar Alex Rúnarsson           13.0  Arsenal  Goalkeeper     Iceland  25.0   \n",
       "3       Héctor Bellerín            2.0  Arsenal    Defender       Spain  25.0   \n",
       "4        Kieran Tierney            3.0  Arsenal    Defender    Scotland  23.0   \n",
       "\n",
       "   Appearances  Wins  Losses  Goals  ...  Punches  High Claims  Catches  \\\n",
       "0           64    28      16      0  ...     34.0         26.0     17.0   \n",
       "1            0     0       0      0  ...      0.0          0.0      0.0   \n",
       "2            0     0       0      0  ...      0.0          0.0      0.0   \n",
       "3          160    90      37      7  ...      NaN          NaN      NaN   \n",
       "4           16     7       5      1  ...      NaN          NaN      NaN   \n",
       "\n",
       "   Sweeper clearances  Throw outs  Goal Kicks  Yellow cards  Red cards Fouls  \\\n",
       "0                28.0       375.0       489.0             2          0     0   \n",
       "1                 0.0         0.0         0.0             0          0     0   \n",
       "2                 0.0         0.0         0.0             0          0     0   \n",
       "3                 NaN         NaN         NaN            23          0   125   \n",
       "4                 NaN         NaN         NaN             2          0     9   \n",
       "\n",
       "   Offsides  \n",
       "0       NaN  \n",
       "1       NaN  \n",
       "2       NaN  \n",
       "3       8.0  \n",
       "4       0.0  \n",
       "\n",
       "[5 rows x 59 columns]"
      ]
     },
     "execution_count": 3,
     "metadata": {},
     "output_type": "execute_result"
    }
   ],
   "source": [
    "premier_df = pd.read_csv('C:\\\\Users\\\\formacio\\\\Gabriel De Santis\\\\Datasets\\\\premier_league.csv', sep=',')\n",
    "premier_df.head()"
   ]
  },
  {
   "cell_type": "code",
   "execution_count": 4,
   "id": "9f2ad1c8",
   "metadata": {},
   "outputs": [
    {
     "data": {
      "text/plain": [
       "(571, 59)"
      ]
     },
     "execution_count": 4,
     "metadata": {},
     "output_type": "execute_result"
    }
   ],
   "source": [
    "premier_df.shape"
   ]
  },
  {
   "cell_type": "code",
   "execution_count": 6,
   "id": "2d4accb8",
   "metadata": {},
   "outputs": [
    {
     "name": "stdout",
     "output_type": "stream",
     "text": [
      "<class 'pandas.core.frame.DataFrame'>\n",
      "RangeIndex: 571 entries, 0 to 570\n",
      "Data columns (total 59 columns):\n",
      " #   Column                  Non-Null Count  Dtype  \n",
      "---  ------                  --------------  -----  \n",
      " 0   Name                    571 non-null    object \n",
      " 1   Jersey Number           563 non-null    float64\n",
      " 2   Club                    571 non-null    object \n",
      " 3   Position                571 non-null    object \n",
      " 4   Nationality             570 non-null    object \n",
      " 5   Age                     570 non-null    float64\n",
      " 6   Appearances             571 non-null    int64  \n",
      " 7   Wins                    571 non-null    int64  \n",
      " 8   Losses                  571 non-null    int64  \n",
      " 9   Goals                   571 non-null    int64  \n",
      " 10  Goals per match         309 non-null    float64\n",
      " 11  Headed goals            502 non-null    float64\n",
      " 12  Goals with right foot   502 non-null    float64\n",
      " 13  Goals with left foot    502 non-null    float64\n",
      " 14  Penalties scored        309 non-null    float64\n",
      " 15  Freekicks scored        309 non-null    float64\n",
      " 16  Shots                   309 non-null    float64\n",
      " 17  Shots on target         309 non-null    float64\n",
      " 18  Shooting accuracy %     309 non-null    object \n",
      " 19  Hit woodwork            502 non-null    float64\n",
      " 20  Big chances missed      309 non-null    float64\n",
      " 21  Clean sheets            262 non-null    float64\n",
      " 22  Goals conceded          262 non-null    float64\n",
      " 23  Tackles                 502 non-null    float64\n",
      " 24  Tackle success %        390 non-null    object \n",
      " 25  Last man tackles        193 non-null    float64\n",
      " 26  Blocked shots           502 non-null    float64\n",
      " 27  Interceptions           502 non-null    float64\n",
      " 28  Clearances              502 non-null    float64\n",
      " 29  Headed Clearance        502 non-null    float64\n",
      " 30  Clearances off line     193 non-null    float64\n",
      " 31  Recoveries              390 non-null    float64\n",
      " 32  Duels won               390 non-null    float64\n",
      " 33  Duels lost              390 non-null    float64\n",
      " 34  Successful 50/50s       390 non-null    float64\n",
      " 35  Aerial battles won      390 non-null    float64\n",
      " 36  Aerial battles lost     390 non-null    float64\n",
      " 37  Own goals               262 non-null    float64\n",
      " 38  Errors leading to goal  459 non-null    float64\n",
      " 39  Assists                 571 non-null    int64  \n",
      " 40  Passes                  571 non-null    int64  \n",
      " 41  Passes per match        571 non-null    float64\n",
      " 42  Big chances created     502 non-null    float64\n",
      " 43  Crosses                 502 non-null    float64\n",
      " 44  Cross accuracy %        390 non-null    object \n",
      " 45  Through balls           390 non-null    float64\n",
      " 46  Accurate long balls     459 non-null    float64\n",
      " 47  Saves                   69 non-null     float64\n",
      " 48  Penalties saved         69 non-null     float64\n",
      " 49  Punches                 69 non-null     float64\n",
      " 50  High Claims             69 non-null     float64\n",
      " 51  Catches                 69 non-null     float64\n",
      " 52  Sweeper clearances      69 non-null     float64\n",
      " 53  Throw outs              69 non-null     float64\n",
      " 54  Goal Kicks              69 non-null     float64\n",
      " 55  Yellow cards            571 non-null    int64  \n",
      " 56  Red cards               571 non-null    int64  \n",
      " 57  Fouls                   571 non-null    int64  \n",
      " 58  Offsides                502 non-null    float64\n",
      "dtypes: float64(43), int64(9), object(7)\n",
      "memory usage: 263.3+ KB\n"
     ]
    }
   ],
   "source": [
    "premier_df.info()"
   ]
  },
  {
   "cell_type": "code",
   "execution_count": 7,
   "id": "0822d57b",
   "metadata": {
    "scrolled": true
   },
   "outputs": [
    {
     "data": {
      "text/plain": [
       "Name                       0.000000\n",
       "Jersey Number              1.401051\n",
       "Club                       0.000000\n",
       "Position                   0.000000\n",
       "Nationality                0.175131\n",
       "Age                        0.175131\n",
       "Appearances                0.000000\n",
       "Wins                       0.000000\n",
       "Losses                     0.000000\n",
       "Goals                      0.000000\n",
       "Goals per match           45.884413\n",
       "Headed goals              12.084063\n",
       "Goals with right foot     12.084063\n",
       "Goals with left foot      12.084063\n",
       "Penalties scored          45.884413\n",
       "Freekicks scored          45.884413\n",
       "Shots                     45.884413\n",
       "Shots on target           45.884413\n",
       "Shooting accuracy %       45.884413\n",
       "Hit woodwork              12.084063\n",
       "Big chances missed        45.884413\n",
       "Clean sheets              54.115587\n",
       "Goals conceded            54.115587\n",
       "Tackles                   12.084063\n",
       "Tackle success %          31.698774\n",
       "Last man tackles          66.199650\n",
       "Blocked shots             12.084063\n",
       "Interceptions             12.084063\n",
       "Clearances                12.084063\n",
       "Headed Clearance          12.084063\n",
       "Clearances off line       66.199650\n",
       "Recoveries                31.698774\n",
       "Duels won                 31.698774\n",
       "Duels lost                31.698774\n",
       "Successful 50/50s         31.698774\n",
       "Aerial battles won        31.698774\n",
       "Aerial battles lost       31.698774\n",
       "Own goals                 54.115587\n",
       "Errors leading to goal    19.614711\n",
       "Assists                    0.000000\n",
       "Passes                     0.000000\n",
       "Passes per match           0.000000\n",
       "Big chances created       12.084063\n",
       "Crosses                   12.084063\n",
       "Cross accuracy %          31.698774\n",
       "Through balls             31.698774\n",
       "Accurate long balls       19.614711\n",
       "Saves                     87.915937\n",
       "Penalties saved           87.915937\n",
       "Punches                   87.915937\n",
       "High Claims               87.915937\n",
       "Catches                   87.915937\n",
       "Sweeper clearances        87.915937\n",
       "Throw outs                87.915937\n",
       "Goal Kicks                87.915937\n",
       "Yellow cards               0.000000\n",
       "Red cards                  0.000000\n",
       "Fouls                      0.000000\n",
       "Offsides                  12.084063\n",
       "dtype: float64"
      ]
     },
     "execution_count": 7,
     "metadata": {},
     "output_type": "execute_result"
    }
   ],
   "source": [
    "premier_df.isna().sum() / len(premier_df) * 100"
   ]
  },
  {
   "cell_type": "markdown",
   "id": "81632120",
   "metadata": {},
   "source": [
    "Del gran número de variables de este dataset, seleccionaremos algunas solamente."
   ]
  },
  {
   "cell_type": "code",
   "execution_count": 5,
   "id": "e86c3f85",
   "metadata": {
    "scrolled": true
   },
   "outputs": [
    {
     "data": {
      "text/plain": [
       "Index(['Name', 'Jersey Number', 'Club', 'Position', 'Nationality', 'Age',\n",
       "       'Appearances', 'Wins', 'Losses', 'Goals', 'Goals per match',\n",
       "       'Headed goals', 'Goals with right foot', 'Goals with left foot',\n",
       "       'Penalties scored', 'Freekicks scored', 'Shots', 'Shots on target',\n",
       "       'Shooting accuracy %', 'Hit woodwork', 'Big chances missed',\n",
       "       'Clean sheets', 'Goals conceded', 'Tackles', 'Tackle success %',\n",
       "       'Last man tackles', 'Blocked shots', 'Interceptions', 'Clearances',\n",
       "       'Headed Clearance', 'Clearances off line', 'Recoveries', 'Duels won',\n",
       "       'Duels lost', 'Successful 50/50s', 'Aerial battles won',\n",
       "       'Aerial battles lost', 'Own goals', 'Errors leading to goal', 'Assists',\n",
       "       'Passes', 'Passes per match', 'Big chances created', 'Crosses',\n",
       "       'Cross accuracy %', 'Through balls', 'Accurate long balls', 'Saves',\n",
       "       'Penalties saved', 'Punches', 'High Claims', 'Catches',\n",
       "       'Sweeper clearances', 'Throw outs', 'Goal Kicks', 'Yellow cards',\n",
       "       'Red cards', 'Fouls', 'Offsides'],\n",
       "      dtype='object')"
      ]
     },
     "execution_count": 5,
     "metadata": {},
     "output_type": "execute_result"
    }
   ],
   "source": [
    "premier_df.columns"
   ]
  },
  {
   "cell_type": "code",
   "execution_count": 8,
   "id": "eda33003",
   "metadata": {
    "scrolled": true
   },
   "outputs": [
    {
     "data": {
      "text/html": [
       "<div>\n",
       "<style scoped>\n",
       "    .dataframe tbody tr th:only-of-type {\n",
       "        vertical-align: middle;\n",
       "    }\n",
       "\n",
       "    .dataframe tbody tr th {\n",
       "        vertical-align: top;\n",
       "    }\n",
       "\n",
       "    .dataframe thead th {\n",
       "        text-align: right;\n",
       "    }\n",
       "</style>\n",
       "<table border=\"1\" class=\"dataframe\">\n",
       "  <thead>\n",
       "    <tr style=\"text-align: right;\">\n",
       "      <th></th>\n",
       "      <th>Name</th>\n",
       "      <th>Position</th>\n",
       "      <th>Wins</th>\n",
       "      <th>Losses</th>\n",
       "      <th>Goals</th>\n",
       "    </tr>\n",
       "  </thead>\n",
       "  <tbody>\n",
       "    <tr>\n",
       "      <th>0</th>\n",
       "      <td>Bernd Leno</td>\n",
       "      <td>Goalkeeper</td>\n",
       "      <td>28</td>\n",
       "      <td>16</td>\n",
       "      <td>0</td>\n",
       "    </tr>\n",
       "    <tr>\n",
       "      <th>1</th>\n",
       "      <td>Matt Macey</td>\n",
       "      <td>Goalkeeper</td>\n",
       "      <td>0</td>\n",
       "      <td>0</td>\n",
       "      <td>0</td>\n",
       "    </tr>\n",
       "    <tr>\n",
       "      <th>2</th>\n",
       "      <td>Rúnar Alex Rúnarsson</td>\n",
       "      <td>Goalkeeper</td>\n",
       "      <td>0</td>\n",
       "      <td>0</td>\n",
       "      <td>0</td>\n",
       "    </tr>\n",
       "    <tr>\n",
       "      <th>3</th>\n",
       "      <td>Héctor Bellerín</td>\n",
       "      <td>Defender</td>\n",
       "      <td>90</td>\n",
       "      <td>37</td>\n",
       "      <td>7</td>\n",
       "    </tr>\n",
       "    <tr>\n",
       "      <th>4</th>\n",
       "      <td>Kieran Tierney</td>\n",
       "      <td>Defender</td>\n",
       "      <td>7</td>\n",
       "      <td>5</td>\n",
       "      <td>1</td>\n",
       "    </tr>\n",
       "    <tr>\n",
       "      <th>...</th>\n",
       "      <td>...</td>\n",
       "      <td>...</td>\n",
       "      <td>...</td>\n",
       "      <td>...</td>\n",
       "      <td>...</td>\n",
       "    </tr>\n",
       "    <tr>\n",
       "      <th>566</th>\n",
       "      <td>Pedro Neto</td>\n",
       "      <td>Forward</td>\n",
       "      <td>14</td>\n",
       "      <td>7</td>\n",
       "      <td>3</td>\n",
       "    </tr>\n",
       "    <tr>\n",
       "      <th>567</th>\n",
       "      <td>Raúl Jiménez</td>\n",
       "      <td>Forward</td>\n",
       "      <td>32</td>\n",
       "      <td>23</td>\n",
       "      <td>32</td>\n",
       "    </tr>\n",
       "    <tr>\n",
       "      <th>568</th>\n",
       "      <td>Adama Traoré</td>\n",
       "      <td>Forward</td>\n",
       "      <td>27</td>\n",
       "      <td>47</td>\n",
       "      <td>5</td>\n",
       "    </tr>\n",
       "    <tr>\n",
       "      <th>569</th>\n",
       "      <td>Fábio Silva</td>\n",
       "      <td>Forward</td>\n",
       "      <td>0</td>\n",
       "      <td>1</td>\n",
       "      <td>0</td>\n",
       "    </tr>\n",
       "    <tr>\n",
       "      <th>570</th>\n",
       "      <td>Leonardo Campana</td>\n",
       "      <td>Forward</td>\n",
       "      <td>0</td>\n",
       "      <td>0</td>\n",
       "      <td>0</td>\n",
       "    </tr>\n",
       "  </tbody>\n",
       "</table>\n",
       "<p>571 rows × 5 columns</p>\n",
       "</div>"
      ],
      "text/plain": [
       "                     Name    Position  Wins  Losses  Goals\n",
       "0              Bernd Leno  Goalkeeper    28      16      0\n",
       "1              Matt Macey  Goalkeeper     0       0      0\n",
       "2    Rúnar Alex Rúnarsson  Goalkeeper     0       0      0\n",
       "3         Héctor Bellerín    Defender    90      37      7\n",
       "4          Kieran Tierney    Defender     7       5      1\n",
       "..                    ...         ...   ...     ...    ...\n",
       "566            Pedro Neto     Forward    14       7      3\n",
       "567          Raúl Jiménez     Forward    32      23     32\n",
       "568          Adama Traoré     Forward    27      47      5\n",
       "569           Fábio Silva     Forward     0       1      0\n",
       "570      Leonardo Campana     Forward     0       0      0\n",
       "\n",
       "[571 rows x 5 columns]"
      ]
     },
     "execution_count": 8,
     "metadata": {},
     "output_type": "execute_result"
    }
   ],
   "source": [
    "premier = premier_df[['Name', 'Position', 'Wins', 'Losses', 'Goals']].copy(deep=True)\n",
    "premier"
   ]
  },
  {
   "cell_type": "markdown",
   "id": "7f16b651",
   "metadata": {},
   "source": [
    "L'atribut escollit és 'Wins'"
   ]
  },
  {
   "cell_type": "code",
   "execution_count": 39,
   "id": "1a977b07",
   "metadata": {},
   "outputs": [
    {
     "name": "stdout",
     "output_type": "stream",
     "text": [
      "Moda: 0\n",
      "Mediana: 12.0\n",
      "Desviació estàndard: 38.96937599371271\n",
      "Mitjana aritmètica: 28.95796847635727\n"
     ]
    }
   ],
   "source": [
    "#la moda, la mediana, la desviació estàndard i la mitjana aritmètica. \n",
    "\n",
    "moda = premier.Wins.mode().iloc[0]\n",
    "print(f'Moda: {moda}')\n",
    "\n",
    "mediana = premier.Wins.median()\n",
    "print(f'Mediana: {mediana}')\n",
    "\n",
    "des_std = premier.Wins.std()\n",
    "print(f'Desviació estàndard: {des_std}')\n",
    "\n",
    "mitjana = premier.Wins.mean()\n",
    "print(f'Mitjana aritmètica: {mitjana}')"
   ]
  },
  {
   "cell_type": "code",
   "execution_count": 48,
   "id": "7f992cc4",
   "metadata": {
    "scrolled": true
   },
   "outputs": [
    {
     "data": {
      "text/plain": [
       "<AxesSubplot:xlabel='Wins', ylabel='Count'>"
      ]
     },
     "execution_count": 48,
     "metadata": {},
     "output_type": "execute_result"
    },
    {
     "data": {
      "image/png": "[encoded data removed]",
      "text/plain": [
       "<Figure size 432x288 with 1 Axes>"
      ]
     },
     "metadata": {
      "needs_background": "light"
     },
     "output_type": "display_data"
    }
   ],
   "source": [
    "sns.histplot(premier.Wins)"
   ]
  },
  {
   "cell_type": "markdown",
   "id": "d5dada16",
   "metadata": {},
   "source": [
    "- Exercici 2\n",
    "Continuant amb les dades de tema esportiu, selecciona dos atributs i calcula'n la seva correlació. "
   ]
  },
  {
   "cell_type": "code",
   "execution_count": 51,
   "id": "d8f51e22",
   "metadata": {},
   "outputs": [
    {
     "data": {
      "text/plain": [
       "0.6023208487443557"
      ]
     },
     "execution_count": 51,
     "metadata": {},
     "output_type": "execute_result"
    }
   ],
   "source": [
    "#Correlació entre el nombre de gols i el nombre de victòries de cada jugador en tota la seva carrera\n",
    "\n",
    "premier.Wins.corr(premier.Goals)"
   ]
  },
  {
   "cell_type": "markdown",
   "id": "8c73100c",
   "metadata": {},
   "source": [
    "- Exercici 3\n",
    "\n",
    "Continuant amb les dades de tema esportiu, calcula la correlació de tots els atributs entre sí i representa'ls en una matriu amb diferents colors d'intensitat."
   ]
  },
  {
   "cell_type": "code",
   "execution_count": 55,
   "id": "f6539a41",
   "metadata": {},
   "outputs": [
    {
     "data": {
      "text/plain": [
       "<AxesSubplot:>"
      ]
     },
     "execution_count": 55,
     "metadata": {},
     "output_type": "execute_result"
    },
    {
     "data": {
      "image/png": "[encoded data removed]",
      "text/plain": [
       "<Figure size 432x288 with 2 Axes>"
      ]
     },
     "metadata": {
      "needs_background": "light"
     },
     "output_type": "display_data"
    }
   ],
   "source": [
    "sns.heatmap(premier.corr(), annot=True, cmap='Reds')"
   ]
  },
  {
   "cell_type": "markdown",
   "id": "7c6e8639",
   "metadata": {},
   "source": [
    "- Exercici 4\n",
    "\n",
    "Continuant amb les dades de tema esportiu, selecciona un atribut i calcula la mitjana geomètrica i la mitjana harmònica."
   ]
  }
 ],
 "metadata": {
  "kernelspec": {
   "display_name": "Python 3",
   "language": "python",
   "name": "python3"
  },
  "language_info": {
   "codemirror_mode": {
    "name": "ipython",
    "version": 3
   },
   "file_extension": ".py",
   "mimetype": "text/x-python",
   "name": "python",
   "nbconvert_exporter": "python",
   "pygments_lexer": "ipython3",
   "version": "3.8.8"
  }
 },
 "nbformat": 4,
 "nbformat_minor": 5
}
